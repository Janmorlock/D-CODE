{
 "cells": [
  {
   "cell_type": "code",
   "execution_count": 1,
   "id": "eee01efa",
   "metadata": {},
   "outputs": [],
   "source": [
    "import argparse\n",
    "import numpy as np\n",
    "\n",
    "import data\n",
    "import equations\n",
    "from gp_utils import run_gp_ode\n",
    "from interpolate import get_ode_data\n",
    "import pickle\n",
    "import os\n",
    "import time\n",
    "from collections import Counter\n",
    "import matplotlib.pyplot as plt"
   ]
  },
  {
   "cell_type": "code",
   "execution_count": 2,
   "id": "9cb8151e",
   "metadata": {},
   "outputs": [],
   "source": [
    "from gp_utils import *\n",
    "\n",
    "def gp_to_pysym(f_star, ode):\n",
    "    VarDict = ode.get_var_dict()\n",
    "    f_star_list, var_list, coef_list = parse_program_to_list(f_star.program)\n",
    "    f_star_infix = generator.Generator.prefix_to_infix(f_star_list, variables=var_list, coefficients=coef_list)\n",
    "    f_star_infix2 = f_star_infix.replace('{', '').replace('}', '')\n",
    "    if f_star_infix2 == f_star_infix:\n",
    "        f_star_sympy = generator.Generator.infix_to_sympy(f_star_infix, VarDict, \"simplify\")\n",
    "        return f_star_sympy\n",
    "\n",
    "    f_star_sympy = generator.Generator.infix_to_sympy(f_star_infix2, VarDict, \"simplify\")\n",
    "    return f_star_sympy\n",
    "\n",
    "def std_RMSE(err_sq):\n",
    "    rmse_list = []\n",
    "    for i in range(500):\n",
    "        new_err = err_sq[np.random.randint(0, len(err_sq), err_sq.shape)]\n",
    "        rmse_itr = np.sqrt(np.mean(new_err))\n",
    "        rmse_list.append(rmse_itr)\n",
    "    return np.std(np.array(rmse_list))"
   ]
  },
  {
   "cell_type": "code",
   "execution_count": 3,
   "id": "94533a98",
   "metadata": {},
   "outputs": [],
   "source": [
    "dim_x, x_id, n_sample = 2, 0, 200\n",
    "seed_s, seed_e = 0, 100\n",
    "ode_name = 'real'\n",
    "dg = data.DataGeneratorReal(dim_x, n_sample)\n",
    "\n",
    "yt = dg.generate_data()\n",
    "ode = equations.RealODEPlaceHolder()\n",
    "ode_data, X_ph, y_ph, t_new = get_ode_data(yt, x_id, dg, ode)\n"
   ]
  },
  {
   "cell_type": "markdown",
   "id": "9e856887",
   "metadata": {},
   "source": [
    "## SR-T"
   ]
  },
  {
   "cell_type": "code",
   "execution_count": 4,
   "id": "fc67eac0",
   "metadata": {},
   "outputs": [],
   "source": [
    "np.random.seed(10)"
   ]
  },
  {
   "cell_type": "code",
   "execution_count": 5,
   "id": "34233403",
   "metadata": {},
   "outputs": [],
   "source": [
    "path_base = 'results/{}/sample-{}/dim-{}/'.format(ode_name, n_sample, dim_x)\n"
   ]
  },
  {
   "cell_type": "code",
   "execution_count": 6,
   "id": "11c9198d",
   "metadata": {},
   "outputs": [],
   "source": [
    "res_list = []\n",
    "for s in range(seed_s, seed_e):\n",
    "    if x_id == 0:\n",
    "        path = path_base + 'grad_seed_{}.pkl'.format(s)\n",
    "    else:\n",
    "        path = path_base + 'grad_x_{}_seed_{}.pkl'.format(x_id, s)\n",
    "\n",
    "    try:\n",
    "        with open(path, 'rb') as f:\n",
    "            res = pickle.load(f)\n",
    "        res_list.append(res)\n",
    "    except FileNotFoundError:\n",
    "        pass"
   ]
  },
  {
   "cell_type": "code",
   "execution_count": 7,
   "id": "8a9bb2b7",
   "metadata": {},
   "outputs": [],
   "source": [
    "f_sym_list = [x['f_hat'] for x in res_list]\n",
    "f_hat_list = [x['model'] for x in res_list]\n",
    "fitness_list = [x['model'].oob_fitness_ for x in res_list]\n",
    "# fitness_list = [x['model'].fitness_ for x in res_list]"
   ]
  },
  {
   "cell_type": "code",
   "execution_count": 8,
   "id": "8f4b7aa5",
   "metadata": {},
   "outputs": [],
   "source": [
    "# Counter(f_sym_list)"
   ]
  },
  {
   "cell_type": "code",
   "execution_count": 9,
   "id": "8f82f895",
   "metadata": {},
   "outputs": [],
   "source": [
    "best_fit = fitness_list.index(min(fitness_list))"
   ]
  },
  {
   "cell_type": "code",
   "execution_count": 10,
   "id": "4d3ed55f",
   "metadata": {},
   "outputs": [
    {
     "data": {
      "text/plain": [
       "42"
      ]
     },
     "execution_count": 10,
     "metadata": {},
     "output_type": "execute_result"
    }
   ],
   "source": [
    "best_fit"
   ]
  },
  {
   "cell_type": "code",
   "execution_count": 11,
   "id": "3dabbec6",
   "metadata": {},
   "outputs": [
    {
     "data": {
      "text/latex": [
       "$\\displaystyle X_{0} \\log{\\left(X_{0}^{2} \\right)} \\log{\\left(X_{1}^{2} \\right)} \\log{\\left(X_{0} X_{1} + 2 X_{1} \\right)}$"
      ],
      "text/plain": [
       "X0*log(X0**2)*log(X1**2)*log(X0*X1 + 2*X1)"
      ]
     },
     "execution_count": 11,
     "metadata": {},
     "output_type": "execute_result"
    }
   ],
   "source": [
    "f_sym_list[best_fit]"
   ]
  },
  {
   "cell_type": "code",
   "execution_count": 12,
   "id": "bcea1c94",
   "metadata": {},
   "outputs": [],
   "source": [
    "ind = best_fit\n",
    "def ones_func(x):\n",
    "    return 1.\n",
    "\n",
    "f_list = []\n",
    "for i in range(2):\n",
    "    if i == 0:\n",
    "        f_list.append(f_hat_list[ind].execute)\n",
    "    else:\n",
    "        f_list.append(ones_func)\n",
    "\n",
    "ode_hat = equations.InferredODE(2, f_hat_list=f_list, T=dg.T)\n",
    "dg_hat = data.DataGenerator(ode_hat, dg.T, freq=dg.freq, n_sample=10, noise_sigma=0., init_low=(0.99, 0.01),\n",
    "                            init_high=(1., 0.))\n",
    "\n"
   ]
  },
  {
   "cell_type": "code",
   "execution_count": 13,
   "id": "c74b1c50",
   "metadata": {},
   "outputs": [
    {
     "data": {
      "text/plain": [
       "(0.0, 1.1)"
      ]
     },
     "execution_count": 13,
     "metadata": {},
     "output_type": "execute_result"
    },
    {
     "data": {
      "image/png": "[encoded data removed]",
      "text/plain": [
       "<Figure size 432x288 with 1 Axes>"
      ]
     },
     "metadata": {
      "needs_background": "light"
     },
     "output_type": "display_data"
    }
   ],
   "source": [
    "plt.plot(dg_hat.xt[:, 0, 0])\n",
    "plt.ylim(0,1.1)"
   ]
  },
  {
   "cell_type": "code",
   "execution_count": 14,
   "id": "fe189c6f",
   "metadata": {},
   "outputs": [],
   "source": [
    "x_true = dg.yt_test[:, :, 0]\n",
    "x_pred = dg_hat.xt[:, 0:1, 0]\n",
    "mask = dg.mask_test"
   ]
  },
  {
   "cell_type": "code",
   "execution_count": 15,
   "id": "e2c0a2c5",
   "metadata": {},
   "outputs": [
    {
     "data": {
      "text/plain": [
       "0.7478554771888622"
      ]
     },
     "execution_count": 15,
     "metadata": {},
     "output_type": "execute_result"
    }
   ],
   "source": [
    "np.sqrt(np.sum((x_true - x_pred)**2 * mask) / np.sum(mask))"
   ]
  },
  {
   "cell_type": "code",
   "execution_count": 16,
   "id": "88b8339a",
   "metadata": {},
   "outputs": [
    {
     "data": {
      "text/plain": [
       "0.0006102678663462805"
      ]
     },
     "execution_count": 16,
     "metadata": {},
     "output_type": "execute_result"
    }
   ],
   "source": [
    "std_RMSE((x_true - x_pred)**2)"
   ]
  },
  {
   "cell_type": "markdown",
   "id": "d7cb9aaa",
   "metadata": {},
   "source": [
    "## D-CODE"
   ]
  },
  {
   "cell_type": "code",
   "execution_count": null,
   "id": "e70cb335",
   "metadata": {},
   "outputs": [],
   "source": []
  },
  {
   "cell_type": "code",
   "execution_count": 17,
   "id": "57e9f73c",
   "metadata": {},
   "outputs": [],
   "source": [
    "np.random.seed(10)"
   ]
  },
  {
   "cell_type": "code",
   "execution_count": 18,
   "id": "4d56f6d6",
   "metadata": {},
   "outputs": [],
   "source": [
    "path_base = 'results_vi/{}/sample-{}/dim-{}/'.format(ode_name, n_sample, dim_x)\n"
   ]
  },
  {
   "cell_type": "code",
   "execution_count": 19,
   "id": "a3c76b62",
   "metadata": {},
   "outputs": [],
   "source": [
    "res_list = []\n",
    "for s in range(seed_s, seed_e):\n",
    "    if x_id == 0:\n",
    "        path = path_base + 'grad_seed_{}.pkl'.format(s)\n",
    "    else:\n",
    "        path = path_base + 'grad_x_{}_seed_{}.pkl'.format(x_id, s)\n",
    "\n",
    "    try:\n",
    "        with open(path, 'rb') as f:\n",
    "            res = pickle.load(f)\n",
    "        res_list.append(res)\n",
    "    except FileNotFoundError:\n",
    "        pass"
   ]
  },
  {
   "cell_type": "code",
   "execution_count": 20,
   "id": "d32b846d",
   "metadata": {},
   "outputs": [],
   "source": [
    "f_sym_list = [x['f_hat'] for x in res_list]\n",
    "f_hat_list = [x['model'] for x in res_list]\n",
    "fitness_list = [x['model'].oob_fitness_ for x in res_list]\n",
    "best_fit = fitness_list.index(min(fitness_list))"
   ]
  },
  {
   "cell_type": "code",
   "execution_count": 28,
   "id": "cd4b0031",
   "metadata": {},
   "outputs": [
    {
     "data": {
      "text/latex": [
       "$\\displaystyle C X_{0} X_{1}^{C} + \\log{\\left(X_{1} \\right)}$"
      ],
      "text/plain": [
       "C*X0*X1**C + log(X1)"
      ]
     },
     "execution_count": 28,
     "metadata": {},
     "output_type": "execute_result"
    }
   ],
   "source": [
    "f_sym_list[0]"
   ]
  },
  {
   "cell_type": "code",
   "execution_count": 22,
   "id": "56fd599b",
   "metadata": {},
   "outputs": [],
   "source": [
    "ind = 0\n",
    "def ones_func(x):\n",
    "    return 1.\n",
    "\n",
    "f_list = []\n",
    "for i in range(2):\n",
    "    if i == 0:\n",
    "        f_list.append(f_hat_list[ind].execute)\n",
    "    else:\n",
    "        f_list.append(ones_func)\n",
    "\n",
    "ode_hat = equations.InferredODE(2, f_hat_list=f_list, T=dg.T)\n",
    "dg_hat = data.DataGenerator(ode_hat, dg.T, freq=dg.freq, n_sample=10, noise_sigma=0., init_low=(0.99, 0.01),\n",
    "                            init_high=(1., 0.))\n",
    "\n"
   ]
  },
  {
   "cell_type": "code",
   "execution_count": 23,
   "id": "bca2d7b2",
   "metadata": {},
   "outputs": [
    {
     "data": {
      "text/plain": [
       "(0.0, 1.1)"
      ]
     },
     "execution_count": 23,
     "metadata": {},
     "output_type": "execute_result"
    },
    {
     "data": {
      "image/png": "[encoded data removed]",
      "text/plain": [
       "<Figure size 432x288 with 1 Axes>"
      ]
     },
     "metadata": {
      "needs_background": "light"
     },
     "output_type": "display_data"
    }
   ],
   "source": [
    "plt.plot(dg_hat.xt[:, 0, 0])\n",
    "plt.ylim(0,1.1)"
   ]
  },
  {
   "cell_type": "code",
   "execution_count": 24,
   "id": "f8ac445b",
   "metadata": {},
   "outputs": [],
   "source": [
    "x_true = dg.yt_test[:, :, 0]\n",
    "x_pred = dg_hat.xt[:, 0:1, 0]\n",
    "mask = dg.mask_test"
   ]
  },
  {
   "cell_type": "code",
   "execution_count": 25,
   "id": "39646e62",
   "metadata": {},
   "outputs": [
    {
     "data": {
      "text/plain": [
       "0.23663014668704674"
      ]
     },
     "execution_count": 25,
     "metadata": {},
     "output_type": "execute_result"
    }
   ],
   "source": [
    "np.sqrt(np.sum((x_true - x_pred)**2 * mask) / np.sum(mask))"
   ]
  },
  {
   "cell_type": "code",
   "execution_count": 26,
   "id": "eb7d2dab",
   "metadata": {},
   "outputs": [
    {
     "data": {
      "text/plain": [
       "0.0003295407196635378"
      ]
     },
     "execution_count": 26,
     "metadata": {},
     "output_type": "execute_result"
    }
   ],
   "source": [
    "std_RMSE((x_true - x_pred)**2)"
   ]
  },
  {
   "cell_type": "code",
   "execution_count": null,
   "id": "b2dcac8b",
   "metadata": {},
   "outputs": [],
   "source": []
  },
  {
   "cell_type": "code",
   "execution_count": null,
   "id": "1ef6e61e",
   "metadata": {},
   "outputs": [],
   "source": []
  }
 ],
 "metadata": {
  "kernelspec": {
   "display_name": "Python 3 (ipykernel)",
   "language": "python",
   "name": "python3"
  },
  "language_info": {
   "codemirror_mode": {
    "name": "ipython",
    "version": 3
   },
   "file_extension": ".py",
   "mimetype": "text/x-python",
   "name": "python",
   "nbconvert_exporter": "python",
   "pygments_lexer": "ipython3",
   "version": "3.9.6"
  }
 },
 "nbformat": 4,
 "nbformat_minor": 5
}
