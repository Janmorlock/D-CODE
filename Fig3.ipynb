{
 "cells": [
  {
   "cell_type": "code",
   "execution_count": 1,
   "id": "fbbc23de",
   "metadata": {},
   "outputs": [],
   "source": [
    "import sympy\n",
    "import argparse\n",
    "\n",
    "import equations\n",
    "import data\n",
    "\n",
    "import sympy\n",
    "\n",
    "import sys\n",
    "import os\n",
    "\n",
    "import matplotlib.pyplot as plt\n",
    "\n",
    "from derivative import dxdt\n",
    "import sys\n",
    "import os\n",
    "directory_path = os.getcwd()\n",
    "sys.path.append(directory_path + '/gplearn/')\n",
    "from gplearn.genetic import SymbolicRegressor\n",
    "from utils import generator\n",
    "import numpy as np\n",
    "\n",
    "import pickle"
   ]
  },
  {
   "cell_type": "code",
   "execution_count": 2,
   "id": "1917c4d5",
   "metadata": {},
   "outputs": [
    {
     "data": {
      "text/plain": [
       "1"
      ]
     },
     "execution_count": 2,
     "metadata": {},
     "output_type": "execute_result"
    }
   ],
   "source": [
    "ode_name = 'GompertzODE'\n",
    "noise_sigma = 0.09\n",
    "n_sample = 50\n",
    "freq = 10\n",
    "x_id = 0\n",
    "seed_s = 0\n",
    "seed_e = 1\n",
    "\n",
    "path_base = 'results/{}/noise-{}/sample-{}/freq-{}/'.format(ode_name, noise_sigma, n_sample, freq)\n",
    "res_list = []\n",
    "for s in range(seed_s, seed_e):\n",
    "    if x_id == 0:\n",
    "        path = path_base + 'grad_seed_{}.pkl'.format(s)\n",
    "    else:\n",
    "        path = path_base + 'grad_x_{}_seed_{}.pkl'.format(x_id, s)\n",
    "\n",
    "    try:\n",
    "        with open(path, 'rb') as f:\n",
    "            res = pickle.load(f)\n",
    "        res_list.append(res)\n",
    "    except FileNotFoundError:\n",
    "        pass\n",
    "len(res_list)"
   ]
  },
  {
   "cell_type": "code",
   "execution_count": 3,
   "id": "8a69b88c",
   "metadata": {},
   "outputs": [
    {
     "data": {
      "text/plain": [
       "1"
      ]
     },
     "execution_count": 3,
     "metadata": {},
     "output_type": "execute_result"
    }
   ],
   "source": [
    "path_base = 'results_vi/{}/noise-{}/sample-{}/freq-{}/'.format(ode_name, noise_sigma, n_sample, freq)\n",
    "res_list_vi = []\n",
    "for s in range(seed_s, seed_e):\n",
    "    if x_id == 0:\n",
    "        path = path_base + 'grad_seed_{}.pkl'.format(s)\n",
    "    else:\n",
    "        path = path_base + 'grad_x_{}_seed_{}.pkl'.format(x_id, s)\n",
    "\n",
    "    try:\n",
    "        with open(path, 'rb') as f:\n",
    "            res = pickle.load(f)\n",
    "        res_list_vi.append(res)\n",
    "    except FileNotFoundError:\n",
    "        pass\n",
    "len(res_list_vi)"
   ]
  },
  {
   "cell_type": "code",
   "execution_count": 4,
   "id": "3e9544a1",
   "metadata": {},
   "outputs": [],
   "source": [
    "T, B, D = res_list[0]['dg'].xt.shape"
   ]
  },
  {
   "cell_type": "code",
   "execution_count": 5,
   "id": "9ce7bf62",
   "metadata": {},
   "outputs": [],
   "source": [
    "b = 2\n",
    "\n",
    "x_true = res_list[0]['dg'].xt[:, b, 0]\n",
    "x_noise = res_list[0]['dg'].yt[:, b, 0]\n",
    "x_hat = res_list_vi[0]['ode_data']['x_hat'][:, b, 0]\n",
    "t = res_list[0]['dg'].solver.t"
   ]
  },
  {
   "cell_type": "code",
   "execution_count": 6,
   "id": "a8009d83",
   "metadata": {},
   "outputs": [],
   "source": [
    "y_hat = res_list[0]['y_train'].reshape(T-1, B)[:, b]\n",
    "y_hat_spline = dxdt(x_noise, t, kind=\"spline\", s=0.012)[:-1]\n",
    "y_hat_direct = dxdt(x_noise, t, kind=\"spline\", s=0.005)[:-1]\n",
    "y_true = res_list[0]['ode']._dx_dt(x_true)[0][:-1]"
   ]
  },
  {
   "cell_type": "code",
   "execution_count": null,
   "id": "87f1c7b1",
   "metadata": {},
   "outputs": [],
   "source": []
  },
  {
   "cell_type": "code",
   "execution_count": 7,
   "id": "6454e721",
   "metadata": {},
   "outputs": [
    {
     "data": {
      "text/plain": [
       "1"
      ]
     },
     "execution_count": 7,
     "metadata": {},
     "output_type": "execute_result"
    }
   ],
   "source": [
    "ode_name = 'GompertzODE'\n",
    "noise_sigma = 0.02\n",
    "n_sample = 50\n",
    "freq = 2\n",
    "x_id = 0\n",
    "seed_s = 0\n",
    "seed_e = 1\n",
    "\n",
    "path_base = 'results/{}/noise-{}/sample-{}/freq-{}/'.format(ode_name, noise_sigma, n_sample, freq)\n",
    "res_list2 = []\n",
    "for s in range(seed_s, seed_e):\n",
    "    if x_id == 0:\n",
    "        path = path_base + 'grad_seed_{}.pkl'.format(s)\n",
    "    else:\n",
    "        path = path_base + 'grad_x_{}_seed_{}.pkl'.format(x_id, s)\n",
    "\n",
    "    try:\n",
    "        with open(path, 'rb') as f:\n",
    "            res = pickle.load(f)\n",
    "        res_list2.append(res)\n",
    "    except FileNotFoundError:\n",
    "        pass\n",
    "len(res_list2)\n",
    "path_base = 'results_vi/{}/noise-{}/sample-{}/freq-{}/'.format(ode_name, noise_sigma, n_sample, freq)\n",
    "res_list2_vi = []\n",
    "for s in range(seed_s, seed_e):\n",
    "    if x_id == 0:\n",
    "        path = path_base + 'grad_seed_{}.pkl'.format(s)\n",
    "    else:\n",
    "        path = path_base + 'grad_x_{}_seed_{}.pkl'.format(x_id, s)\n",
    "\n",
    "    try:\n",
    "        with open(path, 'rb') as f:\n",
    "            res = pickle.load(f)\n",
    "        res_list2_vi.append(res)\n",
    "    except FileNotFoundError:\n",
    "        pass\n",
    "len(res_list2_vi)"
   ]
  },
  {
   "cell_type": "code",
   "execution_count": 8,
   "id": "7b2e4e70",
   "metadata": {},
   "outputs": [],
   "source": [
    "T, B, D = res_list2[0]['dg'].xt.shape\n",
    "\n",
    "b = 2\n",
    "\n",
    "x_true2 = res_list2[0]['dg'].xt[:, b, 0]\n",
    "x_noise2 = res_list2[0]['dg'].yt[:, b, 0]\n",
    "x_hat2 = res_list2_vi[0]['ode_data']['x_hat'][:, b, 0]\n",
    "t2 = res_list2[0]['dg'].solver.t\n",
    "\n",
    "y_hat2 = res_list2[0]['y_train'].reshape(T-1, B)[:, b]\n",
    "y_hat_spline2 = dxdt(x_noise2, t2, kind=\"spline\", s=0.001)\n",
    "y_hat_direct2 = dxdt(x_noise2, t2, kind=\"spline\", s=0.00)\n",
    "y_true2 = res_list2[0]['ode']._dx_dt(x_true2)[0][:-1]"
   ]
  },
  {
   "cell_type": "code",
   "execution_count": 9,
   "id": "65f763cf",
   "metadata": {},
   "outputs": [
    {
     "data": {
      "image/png": "[encoded data removed]",
      "text/plain": [
       "<Figure size 864x180 with 3 Axes>"
      ]
     },
     "metadata": {
      "needs_background": "light"
     },
     "output_type": "display_data"
    }
   ],
   "source": [
    "plt.figure(figsize=(12,2.5))\n",
    "plt.style.use('tableau-colorblind10')\n",
    "colors = plt.rcParams['axes.prop_cycle'].by_key()['color']\n",
    "plt.rcParams['font.size'] = '13'\n",
    "\n",
    "plt.subplot(131)\n",
    "plt.fill_between(res_list_vi[0]['t_new'], x_hat-0.01, x_hat+0.02, alpha=0.2, color=colors[3])\n",
    "plt.plot(t, x_noise, 'o', ms=4, label=r'$Y(t)$', color=colors[1])\n",
    "plt.plot(t, x_true, label=r'$X(t)$', color=colors[0])\n",
    "plt.plot(res_list_vi[0]['t_new'][::2], x_hat[::2], '-', ms=4, label=r'$\\hat{X}(t)$', color=colors[3])\n",
    "# plt.ylabel('Trajectory', fontsize=14)\n",
    "plt.xlabel(r'Time $t$', fontsize=14)\n",
    "plt.title('(A) Trajectory')\n",
    "plt.legend(fontsize=12)\n",
    "\n",
    "plt.subplot(132)\n",
    "plt.plot(t[:-1], y_true, label=r'$\\dot{X}(t)$ True')\n",
    "plt.plot(t[:-1], y_hat_direct, 'o-', ms=4, label=r'${\\dot{X}}(t)$ TV', color=colors[8])\n",
    "# plt.ylabel('Derivative', fontsize=14)\n",
    "plt.yticks([0., 0.2, 0.4])\n",
    "plt.xlabel(r'Time $t$', fontsize=14)\n",
    "plt.ylim((-0.25, 0.52))\n",
    "plt.text(s='High noise', x=2.5, y=0.3, color='black', fontsize=14)\n",
    "plt.title('(B) Derivative')\n",
    "\n",
    "plt.subplot(133)\n",
    "plt.plot(t[:-1], y_true, label='${\\dot{X}}(t)$')\n",
    "plt.plot(t[:-1], y_hat, 'o-', ms=4, label=r'SR-T', color=colors[5])\n",
    "plt.plot(t[:-1], y_hat_spline, 'o-', ms=4, label=r'SR-S', color=colors[6])\n",
    "# plt.ylabel('Derivative', fontsize=14)\n",
    "plt.yticks([0., 0.2, 0.4])\n",
    "plt.xlabel(r'Time $t$', fontsize=14)\n",
    "plt.ylim((-0.25, 0.52))\n",
    "# plt.axvline(x=0, linestyle='--', color='black')\n",
    "# plt.axvline(x=1.5, linestyle='--', color='black')\n",
    "plt.text(s='Bias', x=1., y=0.05, color='black', fontsize=14)\n",
    "plt.arrow(1.2, 0.15, 0., 0.15, head_length=0.05, head_width=0.15, length_includes_head=True)\n",
    "plt.legend(fontsize=12)\n",
    "plt.title('(C) Estimated Derivative')\n",
    "\n",
    "\n",
    "plt.tight_layout(pad=0.2)\n",
    "\n",
    "plt.savefig(fname='Gompertz_plot.png', dpi=200)"
   ]
  },
  {
   "cell_type": "code",
   "execution_count": null,
   "id": "0ca3ec72",
   "metadata": {},
   "outputs": [],
   "source": []
  },
  {
   "cell_type": "code",
   "execution_count": null,
   "id": "9f928bf3",
   "metadata": {},
   "outputs": [],
   "source": []
  },
  {
   "cell_type": "code",
   "execution_count": null,
   "id": "d683dcc0",
   "metadata": {},
   "outputs": [],
   "source": []
  },
  {
   "cell_type": "code",
   "execution_count": null,
   "id": "f5d0d265",
   "metadata": {},
   "outputs": [],
   "source": []
  }
 ],
 "metadata": {
  "kernelspec": {
   "display_name": "Python 3 (ipykernel)",
   "language": "python",
   "name": "python3"
  },
  "language_info": {
   "codemirror_mode": {
    "name": "ipython",
    "version": 3
   },
   "file_extension": ".py",
   "mimetype": "text/x-python",
   "name": "python",
   "nbconvert_exporter": "python",
   "pygments_lexer": "ipython3",
   "version": "3.9.6"
  }
 },
 "nbformat": 4,
 "nbformat_minor": 5
}
