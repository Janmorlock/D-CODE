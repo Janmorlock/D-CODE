{
 "cells": [
  {
   "cell_type": "code",
   "execution_count": 1,
   "id": "95016770",
   "metadata": {},
   "outputs": [],
   "source": [
    "import pandas as pds\n",
    "import matplotlib.pyplot as plt\n",
    "import numpy as np\n",
    "from scipy.interpolate import CubicSpline, interp1d\n",
    "from scipy.linalg import svd"
   ]
  },
  {
   "cell_type": "code",
   "execution_count": 2,
   "id": "d66fcc5d",
   "metadata": {},
   "outputs": [],
   "source": [
    "file_list = [\n",
    "    'input celgene09.csv',\n",
    "    'input centoco06.csv',\n",
    "    'input cougar06.csv',\n",
    "    'input novacea06.csv',\n",
    "    'input pfizer08.csv',\n",
    "    'input sanfi00.csv',\n",
    "    'input sanofi79.csv',\n",
    "    'inputS83OFF.csv',\n",
    "    'inputS83ON.csv'\n",
    "]"
   ]
  },
  {
   "cell_type": "code",
   "execution_count": 3,
   "id": "f71da28b",
   "metadata": {},
   "outputs": [],
   "source": [
    "df_list = list()\n",
    "for f in file_list:\n",
    "    df = pds.read_csv('data/' + f)\n",
    "    df['name'] = df['name'].astype(str) + f\n",
    "    df_list.append(df)\n",
    "\n",
    "df = pds.concat(df_list)"
   ]
  },
  {
   "cell_type": "code",
   "execution_count": 4,
   "id": "041b5798",
   "metadata": {},
   "outputs": [
    {
     "data": {
      "text/html": [
       "<div>\n",
       "<style scoped>\n",
       "    .dataframe tbody tr th:only-of-type {\n",
       "        vertical-align: middle;\n",
       "    }\n",
       "\n",
       "    .dataframe tbody tr th {\n",
       "        vertical-align: top;\n",
       "    }\n",
       "\n",
       "    .dataframe thead th {\n",
       "        text-align: right;\n",
       "    }\n",
       "</style>\n",
       "<table border=\"1\" class=\"dataframe\">\n",
       "  <thead>\n",
       "    <tr style=\"text-align: right;\">\n",
       "      <th></th>\n",
       "      <th>name</th>\n",
       "      <th>date</th>\n",
       "      <th>size</th>\n",
       "    </tr>\n",
       "  </thead>\n",
       "  <tbody>\n",
       "    <tr>\n",
       "      <th>0</th>\n",
       "      <td>1input celgene09.csv</td>\n",
       "      <td>11.0</td>\n",
       "      <td>45.2</td>\n",
       "    </tr>\n",
       "    <tr>\n",
       "      <th>1</th>\n",
       "      <td>1input celgene09.csv</td>\n",
       "      <td>35.0</td>\n",
       "      <td>69.0</td>\n",
       "    </tr>\n",
       "    <tr>\n",
       "      <th>2</th>\n",
       "      <td>1input celgene09.csv</td>\n",
       "      <td>58.0</td>\n",
       "      <td>74.9</td>\n",
       "    </tr>\n",
       "    <tr>\n",
       "      <th>3</th>\n",
       "      <td>1input celgene09.csv</td>\n",
       "      <td>79.0</td>\n",
       "      <td>58.4</td>\n",
       "    </tr>\n",
       "    <tr>\n",
       "      <th>4</th>\n",
       "      <td>1input celgene09.csv</td>\n",
       "      <td>86.0</td>\n",
       "      <td>59.9</td>\n",
       "    </tr>\n",
       "  </tbody>\n",
       "</table>\n",
       "</div>"
      ],
      "text/plain": [
       "                   name  date  size\n",
       "0  1input celgene09.csv  11.0  45.2\n",
       "1  1input celgene09.csv  35.0  69.0\n",
       "2  1input celgene09.csv  58.0  74.9\n",
       "3  1input celgene09.csv  79.0  58.4\n",
       "4  1input celgene09.csv  86.0  59.9"
      ]
     },
     "execution_count": 4,
     "metadata": {},
     "output_type": "execute_result"
    }
   ],
   "source": [
    "df.head()"
   ]
  },
  {
   "cell_type": "code",
   "execution_count": 5,
   "id": "a6cf6f14",
   "metadata": {},
   "outputs": [],
   "source": [
    "df_wide = pds.pivot_table(df, values='size', index='name', columns='date')"
   ]
  },
  {
   "cell_type": "code",
   "execution_count": 6,
   "id": "99b182f6",
   "metadata": {},
   "outputs": [
    {
     "data": {
      "text/plain": [
       "(3216, 975)"
      ]
     },
     "execution_count": 6,
     "metadata": {},
     "output_type": "execute_result"
    }
   ],
   "source": [
    "df_wide.shape"
   ]
  },
  {
   "cell_type": "code",
   "execution_count": 7,
   "id": "073fb657",
   "metadata": {},
   "outputs": [
    {
     "data": {
      "text/html": [
       "<div>\n",
       "<style scoped>\n",
       "    .dataframe tbody tr th:only-of-type {\n",
       "        vertical-align: middle;\n",
       "    }\n",
       "\n",
       "    .dataframe tbody tr th {\n",
       "        vertical-align: top;\n",
       "    }\n",
       "\n",
       "    .dataframe thead th {\n",
       "        text-align: right;\n",
       "    }\n",
       "</style>\n",
       "<table border=\"1\" class=\"dataframe\">\n",
       "  <thead>\n",
       "    <tr style=\"text-align: right;\">\n",
       "      <th>date</th>\n",
       "      <th>1.0</th>\n",
       "      <th>2.0</th>\n",
       "      <th>3.0</th>\n",
       "      <th>4.0</th>\n",
       "      <th>5.0</th>\n",
       "      <th>6.0</th>\n",
       "      <th>7.0</th>\n",
       "      <th>8.0</th>\n",
       "      <th>9.0</th>\n",
       "      <th>10.0</th>\n",
       "      <th>...</th>\n",
       "      <th>1267.0</th>\n",
       "      <th>1287.0</th>\n",
       "      <th>1298.0</th>\n",
       "      <th>1313.0</th>\n",
       "      <th>1321.0</th>\n",
       "      <th>1337.0</th>\n",
       "      <th>1349.0</th>\n",
       "      <th>1354.0</th>\n",
       "      <th>1411.0</th>\n",
       "      <th>1475.0</th>\n",
       "    </tr>\n",
       "    <tr>\n",
       "      <th>name</th>\n",
       "      <th></th>\n",
       "      <th></th>\n",
       "      <th></th>\n",
       "      <th></th>\n",
       "      <th></th>\n",
       "      <th></th>\n",
       "      <th></th>\n",
       "      <th></th>\n",
       "      <th></th>\n",
       "      <th></th>\n",
       "      <th></th>\n",
       "      <th></th>\n",
       "      <th></th>\n",
       "      <th></th>\n",
       "      <th></th>\n",
       "      <th></th>\n",
       "      <th></th>\n",
       "      <th></th>\n",
       "      <th></th>\n",
       "      <th></th>\n",
       "      <th></th>\n",
       "    </tr>\n",
       "  </thead>\n",
       "  <tbody>\n",
       "    <tr>\n",
       "      <th>10003input novacea06.csv</th>\n",
       "      <td>NaN</td>\n",
       "      <td>NaN</td>\n",
       "      <td>NaN</td>\n",
       "      <td>NaN</td>\n",
       "      <td>NaN</td>\n",
       "      <td>NaN</td>\n",
       "      <td>NaN</td>\n",
       "      <td>NaN</td>\n",
       "      <td>NaN</td>\n",
       "      <td>NaN</td>\n",
       "      <td>...</td>\n",
       "      <td>NaN</td>\n",
       "      <td>NaN</td>\n",
       "      <td>NaN</td>\n",
       "      <td>NaN</td>\n",
       "      <td>NaN</td>\n",
       "      <td>NaN</td>\n",
       "      <td>NaN</td>\n",
       "      <td>NaN</td>\n",
       "      <td>NaN</td>\n",
       "      <td>NaN</td>\n",
       "    </tr>\n",
       "    <tr>\n",
       "      <th>10004input novacea06.csv</th>\n",
       "      <td>NaN</td>\n",
       "      <td>NaN</td>\n",
       "      <td>NaN</td>\n",
       "      <td>NaN</td>\n",
       "      <td>NaN</td>\n",
       "      <td>30.79</td>\n",
       "      <td>NaN</td>\n",
       "      <td>NaN</td>\n",
       "      <td>NaN</td>\n",
       "      <td>NaN</td>\n",
       "      <td>...</td>\n",
       "      <td>NaN</td>\n",
       "      <td>NaN</td>\n",
       "      <td>NaN</td>\n",
       "      <td>NaN</td>\n",
       "      <td>NaN</td>\n",
       "      <td>NaN</td>\n",
       "      <td>NaN</td>\n",
       "      <td>NaN</td>\n",
       "      <td>NaN</td>\n",
       "      <td>NaN</td>\n",
       "    </tr>\n",
       "    <tr>\n",
       "      <th>10005input novacea06.csv</th>\n",
       "      <td>NaN</td>\n",
       "      <td>NaN</td>\n",
       "      <td>NaN</td>\n",
       "      <td>NaN</td>\n",
       "      <td>NaN</td>\n",
       "      <td>NaN</td>\n",
       "      <td>NaN</td>\n",
       "      <td>NaN</td>\n",
       "      <td>NaN</td>\n",
       "      <td>NaN</td>\n",
       "      <td>...</td>\n",
       "      <td>NaN</td>\n",
       "      <td>NaN</td>\n",
       "      <td>NaN</td>\n",
       "      <td>NaN</td>\n",
       "      <td>NaN</td>\n",
       "      <td>NaN</td>\n",
       "      <td>NaN</td>\n",
       "      <td>NaN</td>\n",
       "      <td>NaN</td>\n",
       "      <td>NaN</td>\n",
       "    </tr>\n",
       "    <tr>\n",
       "      <th>10008input novacea06.csv</th>\n",
       "      <td>NaN</td>\n",
       "      <td>NaN</td>\n",
       "      <td>NaN</td>\n",
       "      <td>NaN</td>\n",
       "      <td>NaN</td>\n",
       "      <td>NaN</td>\n",
       "      <td>NaN</td>\n",
       "      <td>NaN</td>\n",
       "      <td>NaN</td>\n",
       "      <td>NaN</td>\n",
       "      <td>...</td>\n",
       "      <td>NaN</td>\n",
       "      <td>NaN</td>\n",
       "      <td>NaN</td>\n",
       "      <td>NaN</td>\n",
       "      <td>NaN</td>\n",
       "      <td>NaN</td>\n",
       "      <td>NaN</td>\n",
       "      <td>NaN</td>\n",
       "      <td>NaN</td>\n",
       "      <td>NaN</td>\n",
       "    </tr>\n",
       "    <tr>\n",
       "      <th>10009input novacea06.csv</th>\n",
       "      <td>NaN</td>\n",
       "      <td>NaN</td>\n",
       "      <td>NaN</td>\n",
       "      <td>NaN</td>\n",
       "      <td>NaN</td>\n",
       "      <td>NaN</td>\n",
       "      <td>NaN</td>\n",
       "      <td>NaN</td>\n",
       "      <td>164.51</td>\n",
       "      <td>NaN</td>\n",
       "      <td>...</td>\n",
       "      <td>NaN</td>\n",
       "      <td>NaN</td>\n",
       "      <td>NaN</td>\n",
       "      <td>NaN</td>\n",
       "      <td>NaN</td>\n",
       "      <td>NaN</td>\n",
       "      <td>NaN</td>\n",
       "      <td>NaN</td>\n",
       "      <td>NaN</td>\n",
       "      <td>NaN</td>\n",
       "    </tr>\n",
       "  </tbody>\n",
       "</table>\n",
       "<p>5 rows × 975 columns</p>\n",
       "</div>"
      ],
      "text/plain": [
       "date                      1.0     2.0     3.0     4.0     5.0     6.0     \\\n",
       "name                                                                       \n",
       "10003input novacea06.csv     NaN     NaN     NaN     NaN     NaN     NaN   \n",
       "10004input novacea06.csv     NaN     NaN     NaN     NaN     NaN   30.79   \n",
       "10005input novacea06.csv     NaN     NaN     NaN     NaN     NaN     NaN   \n",
       "10008input novacea06.csv     NaN     NaN     NaN     NaN     NaN     NaN   \n",
       "10009input novacea06.csv     NaN     NaN     NaN     NaN     NaN     NaN   \n",
       "\n",
       "date                      7.0     8.0     9.0     10.0    ...  1267.0  1287.0  \\\n",
       "name                                                      ...                   \n",
       "10003input novacea06.csv     NaN     NaN     NaN     NaN  ...     NaN     NaN   \n",
       "10004input novacea06.csv     NaN     NaN     NaN     NaN  ...     NaN     NaN   \n",
       "10005input novacea06.csv     NaN     NaN     NaN     NaN  ...     NaN     NaN   \n",
       "10008input novacea06.csv     NaN     NaN     NaN     NaN  ...     NaN     NaN   \n",
       "10009input novacea06.csv     NaN     NaN  164.51     NaN  ...     NaN     NaN   \n",
       "\n",
       "date                      1298.0  1313.0  1321.0  1337.0  1349.0  1354.0  \\\n",
       "name                                                                       \n",
       "10003input novacea06.csv     NaN     NaN     NaN     NaN     NaN     NaN   \n",
       "10004input novacea06.csv     NaN     NaN     NaN     NaN     NaN     NaN   \n",
       "10005input novacea06.csv     NaN     NaN     NaN     NaN     NaN     NaN   \n",
       "10008input novacea06.csv     NaN     NaN     NaN     NaN     NaN     NaN   \n",
       "10009input novacea06.csv     NaN     NaN     NaN     NaN     NaN     NaN   \n",
       "\n",
       "date                      1411.0  1475.0  \n",
       "name                                      \n",
       "10003input novacea06.csv     NaN     NaN  \n",
       "10004input novacea06.csv     NaN     NaN  \n",
       "10005input novacea06.csv     NaN     NaN  \n",
       "10008input novacea06.csv     NaN     NaN  \n",
       "10009input novacea06.csv     NaN     NaN  \n",
       "\n",
       "[5 rows x 975 columns]"
      ]
     },
     "execution_count": 7,
     "metadata": {},
     "output_type": "execute_result"
    }
   ],
   "source": [
    "df_wide.head()"
   ]
  },
  {
   "cell_type": "code",
   "execution_count": 8,
   "id": "f1a253c2",
   "metadata": {},
   "outputs": [
    {
     "data": {
      "text/plain": [
       "array([ True,  True,  True,  True,  True,  True,  True,  True,  True,\n",
       "        True,  True,  True,  True,  True,  True,  True,  True,  True,\n",
       "        True,  True,  True,  True,  True,  True,  True,  True,  True,\n",
       "        True,  True,  True,  True,  True,  True,  True,  True,  True,\n",
       "        True,  True,  True,  True,  True,  True,  True,  True,  True,\n",
       "        True,  True,  True,  True,  True,  True,  True,  True,  True,\n",
       "        True,  True,  True,  True,  True,  True,  True,  True,  True,\n",
       "        True,  True,  True,  True,  True,  True,  True,  True,  True,\n",
       "        True,  True,  True,  True,  True,  True,  True,  True,  True,\n",
       "        True,  True,  True,  True,  True,  True,  True,  True,  True,\n",
       "        True,  True,  True,  True,  True,  True,  True,  True,  True,\n",
       "        True,  True,  True,  True,  True,  True,  True,  True,  True,\n",
       "        True,  True,  True,  True,  True,  True,  True,  True,  True,\n",
       "        True,  True,  True,  True,  True,  True,  True,  True,  True,\n",
       "        True,  True,  True,  True,  True,  True,  True,  True,  True,\n",
       "        True,  True,  True,  True,  True,  True,  True,  True,  True,\n",
       "        True,  True,  True,  True,  True,  True,  True,  True,  True,\n",
       "        True,  True,  True,  True,  True,  True,  True,  True,  True,\n",
       "        True,  True,  True,  True,  True,  True,  True,  True,  True,\n",
       "        True,  True,  True,  True,  True,  True,  True,  True,  True,\n",
       "        True,  True,  True,  True,  True,  True,  True,  True,  True,\n",
       "        True,  True,  True,  True,  True,  True,  True,  True,  True,\n",
       "        True,  True,  True,  True,  True,  True,  True,  True,  True,\n",
       "        True,  True,  True,  True,  True,  True,  True,  True,  True,\n",
       "        True,  True,  True,  True,  True,  True,  True,  True,  True,\n",
       "        True,  True,  True,  True,  True,  True,  True,  True,  True,\n",
       "        True,  True,  True,  True,  True,  True,  True,  True,  True,\n",
       "        True,  True,  True,  True,  True,  True,  True,  True,  True,\n",
       "        True,  True,  True,  True,  True,  True,  True,  True,  True,\n",
       "        True,  True,  True,  True,  True,  True,  True,  True,  True,\n",
       "        True,  True,  True,  True,  True,  True,  True,  True,  True,\n",
       "        True,  True,  True,  True,  True,  True,  True,  True,  True,\n",
       "        True,  True,  True,  True,  True,  True,  True,  True,  True,\n",
       "        True,  True,  True,  True,  True,  True,  True,  True,  True,\n",
       "        True,  True,  True,  True,  True,  True,  True,  True,  True,\n",
       "        True,  True,  True,  True,  True,  True,  True,  True,  True,\n",
       "        True,  True,  True,  True,  True,  True,  True,  True,  True,\n",
       "        True,  True,  True,  True,  True,  True,  True,  True,  True,\n",
       "        True,  True,  True,  True,  True,  True,  True,  True,  True,\n",
       "        True,  True,  True,  True,  True,  True,  True,  True,  True,\n",
       "        True,  True,  True,  True,  True])"
      ]
     },
     "execution_count": 8,
     "metadata": {},
     "output_type": "execute_result"
    }
   ],
   "source": [
    "(df_wide.isnull().sum(axis=0) < (3216 - 2)).values[:365]"
   ]
  },
  {
   "cell_type": "code",
   "execution_count": 9,
   "id": "953be527",
   "metadata": {},
   "outputs": [
    {
     "data": {
      "text/plain": [
       "(3216, 365)"
      ]
     },
     "execution_count": 9,
     "metadata": {},
     "output_type": "execute_result"
    }
   ],
   "source": [
    "mat_wide = df_wide.values[:, :365].copy()\n",
    "mat_wide.shape"
   ]
  },
  {
   "cell_type": "code",
   "execution_count": 10,
   "id": "46e12805",
   "metadata": {},
   "outputs": [
    {
     "data": {
      "text/plain": [
       "(3216, 365)"
      ]
     },
     "execution_count": 10,
     "metadata": {},
     "output_type": "execute_result"
    }
   ],
   "source": [
    "mat_wide.shape"
   ]
  },
  {
   "cell_type": "code",
   "execution_count": 11,
   "id": "64e1e3e1",
   "metadata": {},
   "outputs": [
    {
     "data": {
      "text/plain": [
       "599"
      ]
     },
     "execution_count": 11,
     "metadata": {},
     "output_type": "execute_result"
    }
   ],
   "source": [
    "((365 - np.sum(np.isnan(mat_wide), axis=1)) > 10).sum()"
   ]
  },
  {
   "cell_type": "code",
   "execution_count": 12,
   "id": "03e7c78d",
   "metadata": {},
   "outputs": [],
   "source": [
    "mat_small = mat_wide[((365 - np.sum(np.isnan(mat_wide), axis=1)) > 10)]"
   ]
  },
  {
   "cell_type": "code",
   "execution_count": 13,
   "id": "fed7d49b",
   "metadata": {},
   "outputs": [
    {
     "data": {
      "text/plain": [
       "(599, 365)"
      ]
     },
     "execution_count": 13,
     "metadata": {},
     "output_type": "execute_result"
    }
   ],
   "source": [
    "mat_small.shape"
   ]
  },
  {
   "cell_type": "code",
   "execution_count": 14,
   "id": "045d5bc7",
   "metadata": {},
   "outputs": [
    {
     "data": {
      "text/plain": [
       "[<matplotlib.lines.Line2D at 0x7f043a18a250>]"
      ]
     },
     "execution_count": 14,
     "metadata": {},
     "output_type": "execute_result"
    },
    {
     "data": {
      "image/png": "[encoded data removed]",
      "text/plain": [
       "<Figure size 432x288 with 1 Axes>"
      ]
     },
     "metadata": {
      "needs_background": "light"
     },
     "output_type": "display_data"
    }
   ],
   "source": [
    "plt.plot(mat_small[0], 'o')"
   ]
  },
  {
   "cell_type": "code",
   "execution_count": 15,
   "id": "91d6b2a5",
   "metadata": {},
   "outputs": [],
   "source": [
    "## scipy cubic spline interpolate\n",
    "\n",
    "interp_list = []\n",
    "for i in range(mat_small.shape[0]):\n",
    "\n",
    "    row = mat_small[i]\n",
    "    ind = np.where(~np.isnan(row))[0]\n",
    "    val = row[~np.isnan(row)]\n",
    "\n",
    "#     cs = CubicSpline(ind, val, axis=0, bc_type='natural', extrapolate=None)\n",
    "    cs = interp1d(ind, val, axis=0, kind='linear', fill_value='extrapolate')\n",
    "\n",
    "    y_interp = cs(np.arange(mat_small.shape[1]))\n",
    "    interp_list.append(y_interp)"
   ]
  },
  {
   "cell_type": "code",
   "execution_count": 16,
   "id": "0ed66f27",
   "metadata": {},
   "outputs": [
    {
     "data": {
      "text/plain": [
       "(599, 365)"
      ]
     },
     "execution_count": 16,
     "metadata": {},
     "output_type": "execute_result"
    }
   ],
   "source": [
    "y_interp = np.stack(interp_list, axis=0)\n",
    "y_interp.shape"
   ]
  },
  {
   "cell_type": "code",
   "execution_count": 17,
   "id": "4bfdc76d",
   "metadata": {},
   "outputs": [
    {
     "data": {
      "text/plain": [
       "0"
      ]
     },
     "execution_count": 17,
     "metadata": {},
     "output_type": "execute_result"
    }
   ],
   "source": [
    "np.isnan(y_interp).sum()"
   ]
  },
  {
   "cell_type": "code",
   "execution_count": 18,
   "id": "84eafc52",
   "metadata": {},
   "outputs": [],
   "source": [
    "s, v, d = svd(y_interp)"
   ]
  },
  {
   "cell_type": "code",
   "execution_count": 19,
   "id": "7636b9fc",
   "metadata": {},
   "outputs": [
    {
     "data": {
      "text/plain": [
       "[<matplotlib.lines.Line2D at 0x7f04370c0d60>]"
      ]
     },
     "execution_count": 19,
     "metadata": {},
     "output_type": "execute_result"
    },
    {
     "data": {
      "image/png": "[encoded data removed]",
      "text/plain": [
       "<Figure size 432x288 with 1 Axes>"
      ]
     },
     "metadata": {
      "needs_background": "light"
     },
     "output_type": "display_data"
    }
   ],
   "source": [
    "plt.plot(v[:5])"
   ]
  },
  {
   "cell_type": "code",
   "execution_count": 20,
   "id": "6273edfe",
   "metadata": {},
   "outputs": [
    {
     "data": {
      "text/plain": [
       "[<matplotlib.lines.Line2D at 0x7f04370339d0>]"
      ]
     },
     "execution_count": 20,
     "metadata": {},
     "output_type": "execute_result"
    },
    {
     "data": {
      "image/png": "[encoded data removed]",
      "text/plain": [
       "<Figure size 432x288 with 1 Axes>"
      ]
     },
     "metadata": {
      "needs_background": "light"
     },
     "output_type": "display_data"
    }
   ],
   "source": [
    "plt.plot(d[0])"
   ]
  },
  {
   "cell_type": "code",
   "execution_count": 21,
   "id": "ddce24d8",
   "metadata": {},
   "outputs": [
    {
     "data": {
      "text/plain": [
       "(365, 365)"
      ]
     },
     "execution_count": 21,
     "metadata": {},
     "output_type": "execute_result"
    }
   ],
   "source": [
    "d.shape"
   ]
  },
  {
   "cell_type": "code",
   "execution_count": 22,
   "id": "a9a75819",
   "metadata": {},
   "outputs": [],
   "source": [
    "# interpolate\n",
    "# normalize\n",
    "# cluster\n",
    "\n",
    "y_interp_normalized = y_interp / y_interp[:, 0][:, None]"
   ]
  },
  {
   "cell_type": "code",
   "execution_count": null,
   "id": "b4ef80fb",
   "metadata": {},
   "outputs": [],
   "source": []
  },
  {
   "cell_type": "code",
   "execution_count": 23,
   "id": "5939fc8c",
   "metadata": {},
   "outputs": [],
   "source": [
    "inds = [  0,   1,   2,   9,  10,  12,  13,  16,  20,  23,  24,  31,  35,\n",
    "        39,  41,  42,  52,  54,  59,  61,  63,  65,  67,  69,  72,  73,\n",
    "        75,  78,  81,  82,  83,  84,  87,  88,  91,  92,  93,  95,  99,\n",
    "       101, 103, 104, 106, 108, 112, 114, 115, 116, 117, 125, 126, 129,\n",
    "       130, 132, 133, 134, 138, 139, 141, 143, 144, 145, 146, 147, 148,\n",
    "       150, 154, 156, 157, 159, 162, 165, 166, 167, 168, 170, 175, 176,\n",
    "       178, 179, 182, 187, 190, 191, 192, 199, 202, 204, 211, 213, 214,\n",
    "       216, 217, 218, 219, 223, 224, 225, 226, 227, 228, 229, 230, 233,\n",
    "       235, 239, 241, 244, 245, 247, 250, 252, 254, 256, 257, 258, 260,\n",
    "       262, 264, 265, 266, 268, 269, 270, 272, 275, 276, 277, 278, 279,\n",
    "       280, 281, 282, 284, 286, 289, 290, 291, 295, 297, 299, 301, 303,\n",
    "       305, 306, 307, 308, 312, 315, 316, 317, 321, 322, 323, 325, 326,\n",
    "       327, 329, 331, 333, 334, 340, 346, 347, 348, 351, 352, 357, 359,\n",
    "       365, 366, 367, 368, 369, 370, 371, 372, 374, 376, 377, 378, 379,\n",
    "       380, 383, 384, 385, 386, 387, 388, 389, 390, 393, 394, 395, 396,\n",
    "       397, 399, 401, 405, 407, 410, 412, 413, 417, 421, 422, 425, 427,\n",
    "       430, 431, 432, 435, 439, 441, 442, 445, 446, 447, 450, 452, 454,\n",
    "       455, 456, 457, 458, 459, 460, 461, 462, 463, 465, 466, 469, 470,\n",
    "       473, 474, 475, 479, 484, 485, 486, 488, 489, 490, 491, 492, 494,\n",
    "       496, 497, 500, 502, 503, 504, 505, 509, 510, 512, 513, 514, 515,\n",
    "       516, 517, 518, 519, 520, 523, 524, 525, 526, 528, 529, 531, 534,\n",
    "       535, 536, 537, 539, 540, 541, 542, 543, 544, 545, 546, 547, 550,\n",
    "       552, 553, 555, 556, 557, 559, 561, 563, 564, 568, 569, 570, 576,\n",
    "       578, 580, 581, 582, 583, 585, 586, 588, 593, 594, 597]"
   ]
  },
  {
   "cell_type": "code",
   "execution_count": 24,
   "id": "5f6fdbaf",
   "metadata": {},
   "outputs": [],
   "source": [
    "y_c1 = y_interp_normalized[inds]"
   ]
  },
  {
   "cell_type": "code",
   "execution_count": null,
   "id": "0811c4f1",
   "metadata": {},
   "outputs": [],
   "source": []
  },
  {
   "cell_type": "code",
   "execution_count": 25,
   "id": "4e4bd5fe",
   "metadata": {},
   "outputs": [
    {
     "data": {
      "text/plain": [
       "[<matplotlib.lines.Line2D at 0x7f0436fb9370>]"
      ]
     },
     "execution_count": 25,
     "metadata": {},
     "output_type": "execute_result"
    },
    {
     "data": {
      "image/png": "[encoded data removed]",
      "text/plain": [
       "<Figure size 432x288 with 1 Axes>"
      ]
     },
     "metadata": {
      "needs_background": "light"
     },
     "output_type": "display_data"
    }
   ],
   "source": [
    "plt.plot(y_c1[0].T)"
   ]
  },
  {
   "cell_type": "code",
   "execution_count": 26,
   "id": "49f7b0fc",
   "metadata": {},
   "outputs": [
    {
     "data": {
      "text/plain": [
       "(365,)"
      ]
     },
     "execution_count": 26,
     "metadata": {},
     "output_type": "execute_result"
    }
   ],
   "source": [
    "y_c1[0].shape"
   ]
  },
  {
   "cell_type": "code",
   "execution_count": null,
   "id": "d8f4d3eb",
   "metadata": {},
   "outputs": [],
   "source": []
  },
  {
   "cell_type": "code",
   "execution_count": 27,
   "id": "17509e62",
   "metadata": {},
   "outputs": [],
   "source": [
    "s, v, d = svd(y_c1)"
   ]
  },
  {
   "cell_type": "code",
   "execution_count": 28,
   "id": "795f7c98",
   "metadata": {},
   "outputs": [
    {
     "data": {
      "text/plain": [
       "[<matplotlib.lines.Line2D at 0x7f0436f9c040>]"
      ]
     },
     "execution_count": 28,
     "metadata": {},
     "output_type": "execute_result"
    },
    {
     "data": {
      "image/png": "[encoded data removed]",
      "text/plain": [
       "<Figure size 432x288 with 1 Axes>"
      ]
     },
     "metadata": {
      "needs_background": "light"
     },
     "output_type": "display_data"
    }
   ],
   "source": [
    "plt.plot(v)"
   ]
  },
  {
   "cell_type": "code",
   "execution_count": null,
   "id": "8b8f11d7",
   "metadata": {},
   "outputs": [],
   "source": []
  },
  {
   "cell_type": "code",
   "execution_count": 29,
   "id": "897a681e",
   "metadata": {},
   "outputs": [],
   "source": [
    "def build(y_interp, ind):\n",
    "    y_time = np.arange(y_interp.shape[1]) / 365\n",
    "\n",
    "    y_time_list = [y_time] * y_interp.shape[0]\n",
    "\n",
    "    y_time = np.stack(y_time_list, axis=0).T[:, :, None]\n",
    "\n",
    "    y_interp = y_interp.T[:, :, None]\n",
    "\n",
    "    y_total = np.concatenate([y_interp, y_time], axis=-1)\n",
    "\n",
    "    mask = ~np.isnan(mat_small[inds]).T\n",
    "    return y_total, mask"
   ]
  },
  {
   "cell_type": "code",
   "execution_count": 30,
   "id": "1e7022f0",
   "metadata": {},
   "outputs": [],
   "source": [
    "y_total_c1, mask_c1 = build(y_c1, 0)"
   ]
  },
  {
   "cell_type": "code",
   "execution_count": 31,
   "id": "05c8fe83",
   "metadata": {},
   "outputs": [
    {
     "data": {
      "text/plain": [
       "(365, 310, 2)"
      ]
     },
     "execution_count": 31,
     "metadata": {},
     "output_type": "execute_result"
    }
   ],
   "source": [
    "y_total_c1.shape"
   ]
  },
  {
   "cell_type": "code",
   "execution_count": 32,
   "id": "61743671",
   "metadata": {},
   "outputs": [
    {
     "data": {
      "text/plain": [
       "(365, 310)"
      ]
     },
     "execution_count": 32,
     "metadata": {},
     "output_type": "execute_result"
    }
   ],
   "source": [
    "mask_c1.shape"
   ]
  },
  {
   "cell_type": "code",
   "execution_count": 33,
   "id": "16e1c8ce",
   "metadata": {},
   "outputs": [
    {
     "data": {
      "text/plain": [
       "0.28123496845229157"
      ]
     },
     "execution_count": 33,
     "metadata": {},
     "output_type": "execute_result"
    }
   ],
   "source": [
    "y_total_c1[:, :, 0].std()"
   ]
  },
  {
   "cell_type": "code",
   "execution_count": 34,
   "id": "7e41035c",
   "metadata": {},
   "outputs": [
    {
     "data": {
      "text/plain": [
       "0.28867405118075284"
      ]
     },
     "execution_count": 34,
     "metadata": {},
     "output_type": "execute_result"
    }
   ],
   "source": [
    "y_total_c1[:, :, 1].std()"
   ]
  },
  {
   "cell_type": "code",
   "execution_count": 36,
   "id": "c444975a",
   "metadata": {},
   "outputs": [],
   "source": [
    "import pickle\n",
    "\n",
    "with open('data/real_data_c1.pkl', 'wb') as f:\n",
    "    pickle.dump(y_total_c1, f)\n",
    "\n",
    "with open('data/real_data_mask_c1.pkl', 'wb') as f:\n",
    "    pickle.dump(mask_c1, f)\n"
   ]
  },
  {
   "cell_type": "code",
   "execution_count": null,
   "id": "74d60826",
   "metadata": {},
   "outputs": [],
   "source": []
  }
 ],
 "metadata": {
  "kernelspec": {
   "display_name": "Python 3 (ipykernel)",
   "language": "python",
   "name": "python3"
  },
  "language_info": {
   "codemirror_mode": {
    "name": "ipython",
    "version": 3
   },
   "file_extension": ".py",
   "mimetype": "text/x-python",
   "name": "python",
   "nbconvert_exporter": "python",
   "pygments_lexer": "ipython3",
   "version": "3.9.6"
  }
 },
 "nbformat": 4,
 "nbformat_minor": 5
}
